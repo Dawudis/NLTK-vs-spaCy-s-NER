{
  "nbformat": 4,
  "nbformat_minor": 0,
  "metadata": {
    "colab": {
      "name": "NLTK vs spaCy's NER",
      "provenance": [],
      "authorship_tag": "ABX9TyOogi3eJNcveP31eTVijUD6",
      "include_colab_link": true
    },
    "kernelspec": {
      "name": "python3",
      "display_name": "Python 3"
    },
    "language_info": {
      "name": "python"
    }
  },
  "cells": [
    {
      "cell_type": "markdown",
      "metadata": {
        "id": "view-in-github",
        "colab_type": "text"
      },
      "source": [
        "<a href=\"https://colab.research.google.com/github/Dawudis/NLTK-vs-spaCy-s-NER/blob/main/NLTK_vs_spaCy's_NER.ipynb\" target=\"_parent\"><img src=\"https://colab.research.google.com/assets/colab-badge.svg\" alt=\"Open In Colab\"/></a>"
      ]
    },
    {
      "cell_type": "markdown",
      "metadata": {
        "id": "N_SzqywBtwjU"
      },
      "source": [
        "# **NLTK**"
      ]
    },
    {
      "cell_type": "code",
      "metadata": {
        "id": "eep314Hwkw_u"
      },
      "source": [
        "## install dependencies\n",
        "import nltk\n",
        "from nltk.tokenize import word_tokenize\n",
        "from nltk.tag import pos_tag\n",
        "nltk.download('punkt')\n",
        "nltk.download('averaged_perceptron_tagger')\n",
        "nltk.download('maxent_ne_chunker')\n",
        "nltk.download('words')"
      ],
      "execution_count": null,
      "outputs": []
    },
    {
      "cell_type": "code",
      "metadata": {
        "id": "I4Orz2ifk3Es"
      },
      "source": [
        "sentence = \"Democratic Sen. Joe Manchin on Monday pushed back on several politically sensitive positions his party leaders are taking at a crucial time for President Joe Biden's domestic agenda. The West Virginia Democrat, who holds a pivotal vote in the 50-50 Senate, indicated to CNN that he disagrees with the strategy top Democrats are pursuing in the standoff with Republicans over raising the national debt limit. Manchin said that Democrats 'shouldn't rule out anything,' including a budget process that Democratic leaders have made clear they will not employ. Speaking to reporters, Manchin also would not commit to the new timeline set by party leaders to find a deal on the social safety net expansion by October 31. And he sounded resistant to calls from progressives and other top Democrats to raise his $1.5 trillion price tag for the package, which many in his party view as too low to achieve key policy objectives. In a stark warning sign to progressives, Manchin also indicated the package must include a prohibition against using federal funds for most abortions. 'The Hyde Amendment is a red line,' he said. Manchin's stance puts him at odds with progressives, with Congressional Progressive Caucus Chair Pramila Jayapal saying Sunday she would not support a package that included the Hyde Amendment.\""
      ],
      "execution_count": 19,
      "outputs": []
    },
    {
      "cell_type": "code",
      "metadata": {
        "colab": {
          "base_uri": "https://localhost:8080/"
        },
        "id": "vB6FyPuan3Sl",
        "outputId": "26b394b4-de5e-4c41-8b62-546cf7b5118a"
      },
      "source": [
        "## configure NER and display results\n",
        "for sent in nltk.sent_tokenize(sentence):\n",
        "   for chunk in nltk.ne_chunk(nltk.pos_tag(nltk.word_tokenize(sent))):\n",
        "      if hasattr(chunk, 'label'):\n",
        "         print(chunk.label(), ' '.join(c[0] for c in chunk))"
      ],
      "execution_count": 38,
      "outputs": [
        {
          "output_type": "stream",
          "name": "stdout",
          "text": [
            "ORGANIZATION Democratic\n",
            "PERSON Joe Manchin\n",
            "PERSON Joe Biden\n",
            "LOCATION West Virginia\n",
            "ORGANIZATION Senate\n",
            "PERSON Manchin\n",
            "ORGANIZATION Democrats\n",
            "ORGANIZATION Democratic\n",
            "PERSON Manchin\n",
            "PERSON Manchin\n",
            "PERSON Hyde Amendment\n",
            "PERSON Manchin\n",
            "ORGANIZATION Congressional Progressive Caucus\n",
            "PERSON Pramila Jayapal\n",
            "ORGANIZATION Hyde Amendment\n"
          ]
        }
      ]
    },
    {
      "cell_type": "markdown",
      "metadata": {
        "id": "RD7qcscntjHx"
      },
      "source": [
        "# **spaCy**"
      ]
    },
    {
      "cell_type": "code",
      "metadata": {
        "id": "vRLiFlBUpate"
      },
      "source": [
        "## install dependencies\n",
        "import spacy\n",
        "from spacy import displacy\n",
        "NER = spacy.load(\"en_core_web_sm\")"
      ],
      "execution_count": 33,
      "outputs": []
    },
    {
      "cell_type": "code",
      "metadata": {
        "id": "_29rQlK6pe2D"
      },
      "source": [
        "## configure NER\n",
        "doc = NER(sentence)"
      ],
      "execution_count": null,
      "outputs": []
    },
    {
      "cell_type": "code",
      "metadata": {
        "colab": {
          "base_uri": "https://localhost:8080/"
        },
        "id": "8iUiwqQmponQ",
        "outputId": "bae1556e-9fbc-4c2f-cb78-63f3234a57d1"
      },
      "source": [
        "## display results\n",
        "for word in doc.ents:\n",
        "    print(word.text,word.label_)"
      ],
      "execution_count": 35,
      "outputs": [
        {
          "output_type": "stream",
          "name": "stdout",
          "text": [
            "Democratic NORP\n",
            "Joe Manchin PERSON\n",
            "Monday DATE\n",
            "Joe Biden PERSON\n",
            "West Virginia GPE\n",
            "Democrat NORP\n",
            "50-50 CARDINAL\n",
            "Senate ORG\n",
            "CNN ORG\n",
            "Democrats NORP\n",
            "Republicans NORP\n",
            "Manchin PERSON\n",
            "Democrats NORP\n",
            "Democratic NORP\n",
            "Manchin PERSON\n",
            "October 31 DATE\n",
            "Democrats NORP\n",
            "$1.5 trillion MONEY\n",
            "Manchin ORG\n",
            "The Hyde Amendment LAW\n",
            "Congressional Progressive Caucus Chair Pramila Jayapal ORG\n",
            "Sunday DATE\n",
            "the Hyde Amendment LAW\n"
          ]
        }
      ]
    }
  ]
}